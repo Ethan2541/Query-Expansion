{
 "cells": [
  {
   "cell_type": "markdown",
   "metadata": {},
   "source": [
    "# TREC CAR (2017) Dataset\n",
    "\n",
    "As browsing the 30 million documents is far too time-consuming, we will create here a smaller dataset."
   ]
  },
  {
   "cell_type": "code",
   "execution_count": null,
   "metadata": {},
   "outputs": [],
   "source": [
    "import dill as pickle\n",
    "import ir_datasets"
   ]
  },
  {
   "cell_type": "code",
   "execution_count": null,
   "metadata": {},
   "outputs": [],
   "source": [
    "dataset = ir_datasets.load(\"car/v1.5/test200\")\n",
    "\n",
    "# Docstore\n",
    "docstore = dataset.docs_store()\n",
    "\n",
    "# Queries\n",
    "for query in dataset.queries_iter():\n",
    "    print(query[0], query[2], query[3], sep='\\t')\n",
    "    break\n",
    "\n",
    "# Relevance Judgements\n",
    "for qrel in dataset.qrels_iter():\n",
    "    print(qrel[0], qrel[1], qrel[2], sep='\\t')\n",
    "    break"
   ]
  },
  {
   "cell_type": "code",
   "execution_count": null,
   "metadata": {},
   "outputs": [],
   "source": [
    "queries = set()\n",
    "docs = {}\n",
    "relevances = {}\n",
    "\n",
    "for qrel in dataset.qrels_iter():\n",
    "    if len(queries) == 1000:\n",
    "        break\n",
    "    queries.add(qrel[0])\n",
    "    docs[qrel[1]] = docstore.get(qrel[1])[1]\n",
    "    relevances[(qrel[0], qrel[1])] = qrel[2]"
   ]
  },
  {
   "cell_type": "code",
   "execution_count": null,
   "metadata": {},
   "outputs": [],
   "source": [
    "print(f\"Number of queries: {len(queries)}\")\n",
    "print(f\"Number of documents: {len(docs)}\")\n",
    "print(f\"Number of relevance judgements: {len(relevances)}\")"
   ]
  },
  {
   "cell_type": "code",
   "execution_count": null,
   "metadata": {},
   "outputs": [],
   "source": [
    "pickle.dump(queries, open(\"../data/queries.pkl\", \"wb\"))\n",
    "pickle.dump(docs, open(\"../data/documents.pkl\", \"wb\"))\n",
    "pickle.dump(relevances, open(\"../data/relevances.pkl\", \"wb\"))"
   ]
  }
 ],
 "metadata": {
  "kernelspec": {
   "display_name": "Python 3",
   "language": "python",
   "name": "python3"
  },
  "language_info": {
   "codemirror_mode": {
    "name": "ipython",
    "version": 3
   },
   "file_extension": ".py",
   "mimetype": "text/x-python",
   "name": "python",
   "nbconvert_exporter": "python",
   "pygments_lexer": "ipython3",
   "version": "3.11.9"
  }
 },
 "nbformat": 4,
 "nbformat_minor": 2
}
