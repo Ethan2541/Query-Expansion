{
 "cells": [
  {
   "cell_type": "markdown",
   "metadata": {},
   "source": [
    "# Models Building"
   ]
  },
  {
   "cell_type": "code",
   "execution_count": 36,
   "metadata": {},
   "outputs": [],
   "source": [
    "from nltk import download, word_tokenize\n",
    "from nltk.corpus import stopwords\n",
    "from nltk.stem import WordNetLemmatizer\n",
    "from sklearn.feature_extraction.text import TfidfVectorizer\n",
    "\n",
    "import ir_datasets\n",
    "import pickle\n",
    "import re"
   ]
  },
  {
   "cell_type": "markdown",
   "metadata": {},
   "source": [
    "## TFIDF Vectorizer"
   ]
  },
  {
   "cell_type": "code",
   "execution_count": 40,
   "metadata": {},
   "outputs": [
    {
     "name": "stderr",
     "output_type": "stream",
     "text": [
      "[nltk_data] Downloading package wordnet to\n",
      "[nltk_data]     C:\\Users\\Ethan\\AppData\\Roaming\\nltk_data...\n"
     ]
    }
   ],
   "source": [
    "# Ressources Installation for NLTK\n",
    "# download(\"punkt\")\n",
    "# download(\"stopwords\")\n",
    "# download(\"wordnet\")"
   ]
  },
  {
   "cell_type": "code",
   "execution_count": 37,
   "metadata": {},
   "outputs": [],
   "source": [
    "english_stopwords = stopwords.words(\"english\")\n",
    "\n",
    "def preprocess(line):\n",
    "    line = re.sub(r\"[^a-zA-Z]\", \" \", line.lower())\n",
    "    words = word_tokenize(line)\n",
    "    words_lemmed = [WordNetLemmatizer().lemmatize(w) for w in words if w not in english_stopwords]\n",
    "    return words_lemmed"
   ]
  },
  {
   "cell_type": "code",
   "execution_count": 41,
   "metadata": {},
   "outputs": [],
   "source": [
    "# Load the dataset \"TREC CAR 2017\" from ir_datasets\n",
    "dataset = ir_datasets.load(\"car/v1.5\")\n",
    "\n",
    "# Create the TF-IDF Vectorizer\n",
    "vectorizer = TfidfVectorizer(tokenizer=preprocess)\n",
    "\n",
    "# Train the TFIDF-Vectorizer on the corpus\n",
    "vectorizer = vectorizer.fit(dataset.docs_iter())"
   ]
  },
  {
   "cell_type": "code",
   "execution_count": 42,
   "metadata": {},
   "outputs": [],
   "source": [
    "# Save the vectorizer for future use\n",
    "pickle.dump(vectorizer, open(\"../models/vectorizer.pickle\", \"wb\"))"
   ]
  },
  {
   "cell_type": "markdown",
   "metadata": {},
   "source": [
    "## Skipgram"
   ]
  },
  {
   "cell_type": "code",
   "execution_count": null,
   "metadata": {},
   "outputs": [],
   "source": []
  }
 ],
 "metadata": {
  "kernelspec": {
   "display_name": "Python 3",
   "language": "python",
   "name": "python3"
  },
  "language_info": {
   "codemirror_mode": {
    "name": "ipython",
    "version": 3
   },
   "file_extension": ".py",
   "mimetype": "text/x-python",
   "name": "python",
   "nbconvert_exporter": "python",
   "pygments_lexer": "ipython3",
   "version": "3.10.11"
  }
 },
 "nbformat": 4,
 "nbformat_minor": 2
}
