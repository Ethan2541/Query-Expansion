{
 "cells": [
  {
   "cell_type": "markdown",
   "metadata": {},
   "source": [
    "# Models"
   ]
  },
  {
   "cell_type": "code",
   "execution_count": 2,
   "metadata": {},
   "outputs": [],
   "source": [
    "from gensim.models import Word2Vec\n",
    "from nltk import download, word_tokenize\n",
    "from nltk.corpus import stopwords\n",
    "from nltk.stem import WordNetLemmatizer\n",
    "from sklearn.feature_extraction.text import TfidfVectorizer\n",
    "\n",
    "import dill as pickle\n",
    "import gensim.downloader as api\n",
    "import joblib\n",
    "import numpy as np\n",
    "import re\n",
    "import sys"
   ]
  },
  {
   "cell_type": "code",
   "execution_count": 3,
   "metadata": {},
   "outputs": [],
   "source": [
    "sys.path.append('..')\n",
    "\n",
    "from src.baselines import RIH_Cosine, EmbeddingBaseline"
   ]
  },
  {
   "cell_type": "code",
   "execution_count": 4,
   "metadata": {},
   "outputs": [],
   "source": [
    "# Load a derived dataset from the \"TREC CAR 2017\" dataset\n",
    "dataset = {\n",
    "    \"queries\": pickle.load(open(\"../data/queries.pkl\", \"rb\")),\n",
    "    \"documents\": pickle.load(open(\"../data/documents.pkl\", \"rb\")),\n",
    "    \"relevances\": pickle.load(open(\"../data/relevances.pkl\", \"rb\"))\n",
    "}"
   ]
  },
  {
   "cell_type": "markdown",
   "metadata": {},
   "source": [
    "## TFIDF Vectorizer"
   ]
  },
  {
   "cell_type": "code",
   "execution_count": 4,
   "metadata": {},
   "outputs": [
    {
     "name": "stderr",
     "output_type": "stream",
     "text": [
      "[nltk_data] Downloading package punkt to\n",
      "[nltk_data]     C:\\Users\\Ethan\\AppData\\Roaming\\nltk_data...\n",
      "[nltk_data]   Package punkt is already up-to-date!\n",
      "[nltk_data] Downloading package stopwords to\n",
      "[nltk_data]     C:\\Users\\Ethan\\AppData\\Roaming\\nltk_data...\n",
      "[nltk_data]   Package stopwords is already up-to-date!\n",
      "[nltk_data] Downloading package wordnet to\n",
      "[nltk_data]     C:\\Users\\Ethan\\AppData\\Roaming\\nltk_data...\n",
      "[nltk_data]   Package wordnet is already up-to-date!\n"
     ]
    },
    {
     "data": {
      "text/plain": [
       "True"
      ]
     },
     "execution_count": 4,
     "metadata": {},
     "output_type": "execute_result"
    }
   ],
   "source": [
    "# Ressources Installation for NLTK\n",
    "download(\"punkt\")\n",
    "download(\"stopwords\")\n",
    "download(\"wordnet\")"
   ]
  },
  {
   "cell_type": "code",
   "execution_count": 5,
   "metadata": {},
   "outputs": [],
   "source": [
    "english_stopwords = stopwords.words(\"english\")\n",
    "\n",
    "def preprocess(text):\n",
    "    text = re.sub(r\"[^a-zA-Z]\", \" \", text.lower())\n",
    "    words = word_tokenize(text)\n",
    "    words_lemmed = [WordNetLemmatizer().lemmatize(w) for w in words if w not in english_stopwords]\n",
    "    return words_lemmed"
   ]
  },
  {
   "cell_type": "code",
   "execution_count": 6,
   "metadata": {},
   "outputs": [
    {
     "name": "stderr",
     "output_type": "stream",
     "text": [
      "C:\\Users\\Ethan\\AppData\\Local\\Packages\\PythonSoftwareFoundation.Python.3.11_qbz5n2kfra8p0\\LocalCache\\local-packages\\Python311\\site-packages\\sklearn\\feature_extraction\\text.py:525: UserWarning: The parameter 'token_pattern' will not be used since 'tokenizer' is not None'\n",
      "  warnings.warn(\n"
     ]
    }
   ],
   "source": [
    "# Create the TF-IDF Vectorizer\n",
    "vectorizer = TfidfVectorizer(tokenizer=preprocess, stop_words=english_stopwords)\n",
    "\n",
    "# Train the TFIDF-Vectorizer on the corpus\n",
    "def generate_docs_texts():\n",
    "    for text in dataset[\"documents\"].values():\n",
    "        yield text\n",
    "\n",
    "documents_vectors = vectorizer.fit_transform(generate_docs_texts())\n",
    "documents_vectors = documents_vectors.toarray()"
   ]
  },
  {
   "cell_type": "markdown",
   "metadata": {},
   "source": [
    "## Skipgram"
   ]
  },
  {
   "cell_type": "code",
   "execution_count": null,
   "metadata": {},
   "outputs": [],
   "source": [
    "pretrained_model = api.load(\"fasttext-wiki-news-subwords-300\")"
   ]
  },
  {
   "cell_type": "code",
   "execution_count": null,
   "metadata": {},
   "outputs": [],
   "source": [
    "corpus = list(dataset[\"documents\"].values())\n",
    "\n",
    "model = Word2Vec(vector_size=300, window=10, sample=1e-3, min_count=0, sg=1)\n",
    "model.build_vocab(corpus)\n",
    "total_examples = model.corpus_count\n",
    "model.build_vocab([list(pretrained_model.key_to_index.keys())], update=True)\n",
    "\n",
    "model.train(corpus, total_examples=total_examples, epochs=2)\n",
    "model.save(\"../models/skipgram.model\")"
   ]
  },
  {
   "cell_type": "markdown",
   "metadata": {},
   "source": [
    "## Baselines"
   ]
  },
  {
   "cell_type": "markdown",
   "metadata": {},
   "source": [
    "### Relevance Baseline"
   ]
  },
  {
   "cell_type": "code",
   "execution_count": 7,
   "metadata": {},
   "outputs": [],
   "source": [
    "rih_cosine = RIH_Cosine(dataset, vectorizer)\n",
    "results_cosine = rih_cosine.eval_model()"
   ]
  },
  {
   "cell_type": "code",
   "execution_count": 8,
   "metadata": {},
   "outputs": [
    {
     "name": "stdout",
     "output_type": "stream",
     "text": [
      "RIH Cosine Results:  {'NDCG': 0.3536916343324855, 'MAP': 0.16825002655410093, 'RPrec': 0.8055093265456168}\n"
     ]
    }
   ],
   "source": [
    "print(\"RIH Cosine Results: \", results_cosine)"
   ]
  },
  {
   "cell_type": "markdown",
   "metadata": {},
   "source": [
    "### Relevance Expansion"
   ]
  },
  {
   "cell_type": "code",
   "execution_count": 9,
   "metadata": {},
   "outputs": [],
   "source": [
    "rih_cosine = RIH_Cosine(dataset, vectorizer)\n",
    "results_cosine_expanded = rih_cosine.eval_model(expansion=[1.0, 0.75, 0.15])"
   ]
  },
  {
   "cell_type": "code",
   "execution_count": 10,
   "metadata": {},
   "outputs": [
    {
     "name": "stdout",
     "output_type": "stream",
     "text": [
      "RIH Cosine Expanded Results:  {'NDCG': 0.346435022362756, 'MAP': 0.16316602729310062, 'RPrec': 0.8004908060875802}\n"
     ]
    }
   ],
   "source": [
    "print(\"RIH Cosine Expanded Results: \", results_cosine_expanded)"
   ]
  },
  {
   "cell_type": "code",
   "execution_count": 11,
   "metadata": {},
   "outputs": [],
   "source": [
    "rih_cosine = RIH_Cosine(dataset, vectorizer)\n",
    "results_cosine_expanded2 = rih_cosine.eval_model(expansion=[1.0, 0.9, 0.1])"
   ]
  },
  {
   "cell_type": "code",
   "execution_count": 12,
   "metadata": {},
   "outputs": [
    {
     "name": "stdout",
     "output_type": "stream",
     "text": [
      "RIH Cosine Expanded2 Results:  {'NDCG': 0.340159366820859, 'MAP': 0.1581191949314524, 'RPrec': 0.799505143005143}\n"
     ]
    }
   ],
   "source": [
    "print(\"RIH Cosine Expanded2 Results: \", results_cosine_expanded2)"
   ]
  },
  {
   "cell_type": "code",
   "execution_count": 13,
   "metadata": {},
   "outputs": [],
   "source": [
    "rih_cosine = RIH_Cosine(dataset, vectorizer)\n",
    "results_cosine_expanded3 = rih_cosine.eval_model(expansion=[0.9, 0.6, 0.3])"
   ]
  },
  {
   "cell_type": "code",
   "execution_count": 14,
   "metadata": {},
   "outputs": [
    {
     "name": "stdout",
     "output_type": "stream",
     "text": [
      "RIH Cosine Expanded3 Results:  {'NDCG': 0.3503750202677431, 'MAP': 0.16611019112982603, 'RPrec': 0.8022351310577117}\n"
     ]
    }
   ],
   "source": [
    "print(\"RIH Cosine Expanded3 Results: \", results_cosine_expanded3)"
   ]
  },
  {
   "cell_type": "markdown",
   "metadata": {},
   "source": [
    "### Embedding Baseline"
   ]
  },
  {
   "cell_type": "code",
   "execution_count": 5,
   "metadata": {},
   "outputs": [],
   "source": [
    "model = Word2Vec.load(\"../models/skipgram.model\")"
   ]
  },
  {
   "cell_type": "code",
   "execution_count": 6,
   "metadata": {},
   "outputs": [],
   "source": [
    "import src.metrics as metrics\n",
    "from src.expansion import embedding_expansion\n",
    "\n",
    "class EmbeddingBaseline(object):\n",
    "    def __init__(self, dataset, w2v_model):\n",
    "        self.dataset = dataset\n",
    "        self.documents_ids = np.array(list(self.dataset[\"documents\"].keys()))\n",
    "        self.w2v_model = w2v_model\n",
    "        self.embedded_documents = np.array([self.vectorize(doc) for doc in self.dataset[\"documents\"].values()])\n",
    "        \n",
    "    def vectorize(self, text):\n",
    "        embedding = np.zeros(self.w2v_model.vector_size)\n",
    "        size = 0\n",
    "        for word in text.split():\n",
    "            try:\n",
    "                embedding += self.w2v_model.wv[word]\n",
    "                size += 1\n",
    "            except KeyError:\n",
    "                pass\n",
    "        if size == 0:\n",
    "            return embedding\n",
    "        return embedding / size\n",
    "    \n",
    "    def get_query_vector(self, query, expansion=False):\n",
    "        if expansion:\n",
    "            return embedding_expansion(self.w2v_model, [query[1][1], *query[1][2]])\n",
    "        else:\n",
    "            return self.vectorize(query[1][0])\n",
    "    \n",
    "    def cosine_similarities(self, query):\n",
    "        dot_product = self.embedded_documents @ query.reshape(-1, 1)\n",
    "        denominator = (np.maximum(np.linalg.norm(query), 1e-12) * np.maximum(np.linalg.norm(self.embedded_documents), 1e-12))\n",
    "        return dot_product / denominator\n",
    "    \n",
    "    def get_top_k(self, query, k=1000):\n",
    "        scores = self.cosine_similarities(query).reshape(-1)\n",
    "        top_k_indexes = np.argsort(scores)[::-1][:k]\n",
    "        return self.documents_ids[top_k_indexes], scores[top_k_indexes]\n",
    "\n",
    "    def eval_query(self, query, k=1000, expansion=False):\n",
    "        scores = {\n",
    "        \"NDCG\": metrics.NDCG,\n",
    "        \"MAP\": metrics.AP,\n",
    "        \"RPrec\": metrics.RPrec\n",
    "        }\n",
    "        results = {}\n",
    "        q = self.get_query_vector(query, expansion)\n",
    "        docs, _ = self.get_top_k(q, k)\n",
    "        for metric_name, metric_callback in scores.items():\n",
    "            results[metric_name] = metric_callback(query[0], docs, self.dataset[\"relevances\"])\n",
    "        return results\n",
    "    \n",
    "    def eval_model(self, k=1000, expansion=False):\n",
    "        results = {\n",
    "            \"NDCG\": [],\n",
    "            \"MAP\": [],\n",
    "            \"RPrec\": []\n",
    "        }\n",
    "        for query in self.dataset[\"queries\"].items():\n",
    "            query_results = self.eval_query(query, k, expansion)\n",
    "            for metric_name, metric_value in query_results.items():\n",
    "                results[metric_name].append(metric_value)\n",
    "        results = {metric_name: np.mean(metric_values) for metric_name, metric_values in results.items()}\n",
    "        return results"
   ]
  },
  {
   "cell_type": "code",
   "execution_count": 7,
   "metadata": {},
   "outputs": [],
   "source": [
    "embedding_baseline = EmbeddingBaseline(dataset, model)\n",
    "results_embedding = embedding_baseline.eval_model()"
   ]
  },
  {
   "cell_type": "code",
   "execution_count": 6,
   "metadata": {},
   "outputs": [
    {
     "name": "stdout",
     "output_type": "stream",
     "text": [
      "Embedding Baseline Results:  {'NDCG': 0.07149384155330243, 'MAP': 0.007982365958574659, 'RPrec': 0.25243908585440844}\n"
     ]
    }
   ],
   "source": [
    "print(\"Embedding Baseline Results: \", results_embedding)"
   ]
  },
  {
   "cell_type": "markdown",
   "metadata": {},
   "source": [
    "### Embedding Expansion"
   ]
  },
  {
   "cell_type": "code",
   "execution_count": 8,
   "metadata": {},
   "outputs": [
    {
     "name": "stdout",
     "output_type": "stream",
     "text": [
      "{'NDCG': 0, 'MAP': 0.0, 'RPrec': 0.0}\n"
     ]
    },
    {
     "name": "stderr",
     "output_type": "stream",
     "text": [
      "C:\\Users\\Ethan\\AppData\\Local\\Packages\\PythonSoftwareFoundation.Python.3.11_qbz5n2kfra8p0\\LocalCache\\local-packages\\Python311\\site-packages\\numpy\\core\\fromnumeric.py:3504: RuntimeWarning: Mean of empty slice.\n",
      "  return _methods._mean(a, axis=axis, dtype=dtype,\n",
      "C:\\Users\\Ethan\\AppData\\Local\\Packages\\PythonSoftwareFoundation.Python.3.11_qbz5n2kfra8p0\\LocalCache\\local-packages\\Python311\\site-packages\\numpy\\core\\_methods.py:129: RuntimeWarning: invalid value encountered in scalar divide\n",
      "  ret = ret.dtype.type(ret / rcount)\n"
     ]
    },
    {
     "ename": "ValueError",
     "evalue": "setting an array element with a sequence. The requested array has an inhomogeneous shape after 1 dimensions. The detected shape was (3,) + inhomogeneous part.",
     "output_type": "error",
     "traceback": [
      "\u001b[1;31m---------------------------------------------------------------------------\u001b[0m",
      "\u001b[1;31mValueError\u001b[0m                                Traceback (most recent call last)",
      "Cell \u001b[1;32mIn[8], line 6\u001b[0m\n\u001b[0;32m      2\u001b[0m     \u001b[38;5;28mprint\u001b[39m(embedding_baseline\u001b[38;5;241m.\u001b[39meval_query(query, expansion\u001b[38;5;241m=\u001b[39m\u001b[38;5;28;01mTrue\u001b[39;00m))\n\u001b[0;32m      3\u001b[0m     \u001b[38;5;28;01mbreak\u001b[39;00m\n\u001b[1;32m----> 6\u001b[0m results_embedding_expanded \u001b[38;5;241m=\u001b[39m \u001b[43membedding_baseline\u001b[49m\u001b[38;5;241;43m.\u001b[39;49m\u001b[43meval_model\u001b[49m\u001b[43m(\u001b[49m\u001b[43mexpansion\u001b[49m\u001b[38;5;241;43m=\u001b[39;49m\u001b[38;5;28;43;01mTrue\u001b[39;49;00m\u001b[43m)\u001b[49m\n",
      "Cell \u001b[1;32mIn[6], line 60\u001b[0m, in \u001b[0;36mEmbeddingBaseline.eval_model\u001b[1;34m(self, k, expansion)\u001b[0m\n\u001b[0;32m     54\u001b[0m results \u001b[38;5;241m=\u001b[39m {\n\u001b[0;32m     55\u001b[0m     \u001b[38;5;124m\"\u001b[39m\u001b[38;5;124mNDCG\u001b[39m\u001b[38;5;124m\"\u001b[39m: [],\n\u001b[0;32m     56\u001b[0m     \u001b[38;5;124m\"\u001b[39m\u001b[38;5;124mMAP\u001b[39m\u001b[38;5;124m\"\u001b[39m: [],\n\u001b[0;32m     57\u001b[0m     \u001b[38;5;124m\"\u001b[39m\u001b[38;5;124mRPrec\u001b[39m\u001b[38;5;124m\"\u001b[39m: []\n\u001b[0;32m     58\u001b[0m }\n\u001b[0;32m     59\u001b[0m \u001b[38;5;28;01mfor\u001b[39;00m query \u001b[38;5;129;01min\u001b[39;00m \u001b[38;5;28mself\u001b[39m\u001b[38;5;241m.\u001b[39mdataset[\u001b[38;5;124m\"\u001b[39m\u001b[38;5;124mqueries\u001b[39m\u001b[38;5;124m\"\u001b[39m]\u001b[38;5;241m.\u001b[39mitems():\n\u001b[1;32m---> 60\u001b[0m     query_results \u001b[38;5;241m=\u001b[39m \u001b[38;5;28;43mself\u001b[39;49m\u001b[38;5;241;43m.\u001b[39;49m\u001b[43meval_query\u001b[49m\u001b[43m(\u001b[49m\u001b[43mquery\u001b[49m\u001b[43m,\u001b[49m\u001b[43m \u001b[49m\u001b[43mk\u001b[49m\u001b[43m,\u001b[49m\u001b[43m \u001b[49m\u001b[43mexpansion\u001b[49m\u001b[43m)\u001b[49m\n\u001b[0;32m     61\u001b[0m     \u001b[38;5;28;01mfor\u001b[39;00m metric_name, metric_value \u001b[38;5;129;01min\u001b[39;00m query_results\u001b[38;5;241m.\u001b[39mitems():\n\u001b[0;32m     62\u001b[0m         results[metric_name]\u001b[38;5;241m.\u001b[39mappend(metric_value)\n",
      "Cell \u001b[1;32mIn[6], line 47\u001b[0m, in \u001b[0;36mEmbeddingBaseline.eval_query\u001b[1;34m(self, query, k, expansion)\u001b[0m\n\u001b[0;32m     41\u001b[0m scores \u001b[38;5;241m=\u001b[39m {\n\u001b[0;32m     42\u001b[0m \u001b[38;5;124m\"\u001b[39m\u001b[38;5;124mNDCG\u001b[39m\u001b[38;5;124m\"\u001b[39m: metrics\u001b[38;5;241m.\u001b[39mNDCG,\n\u001b[0;32m     43\u001b[0m \u001b[38;5;124m\"\u001b[39m\u001b[38;5;124mMAP\u001b[39m\u001b[38;5;124m\"\u001b[39m: metrics\u001b[38;5;241m.\u001b[39mAP,\n\u001b[0;32m     44\u001b[0m \u001b[38;5;124m\"\u001b[39m\u001b[38;5;124mRPrec\u001b[39m\u001b[38;5;124m\"\u001b[39m: metrics\u001b[38;5;241m.\u001b[39mRPrec\n\u001b[0;32m     45\u001b[0m }\n\u001b[0;32m     46\u001b[0m results \u001b[38;5;241m=\u001b[39m {}\n\u001b[1;32m---> 47\u001b[0m q \u001b[38;5;241m=\u001b[39m \u001b[38;5;28;43mself\u001b[39;49m\u001b[38;5;241;43m.\u001b[39;49m\u001b[43mget_query_vector\u001b[49m\u001b[43m(\u001b[49m\u001b[43mquery\u001b[49m\u001b[43m,\u001b[49m\u001b[43m \u001b[49m\u001b[43mexpansion\u001b[49m\u001b[43m)\u001b[49m\n\u001b[0;32m     48\u001b[0m docs, _ \u001b[38;5;241m=\u001b[39m \u001b[38;5;28mself\u001b[39m\u001b[38;5;241m.\u001b[39mget_top_k(q, k)\n\u001b[0;32m     49\u001b[0m \u001b[38;5;28;01mfor\u001b[39;00m metric_name, metric_callback \u001b[38;5;129;01min\u001b[39;00m scores\u001b[38;5;241m.\u001b[39mitems():\n",
      "Cell \u001b[1;32mIn[6], line 26\u001b[0m, in \u001b[0;36mEmbeddingBaseline.get_query_vector\u001b[1;34m(self, query, expansion)\u001b[0m\n\u001b[0;32m     24\u001b[0m \u001b[38;5;28;01mdef\u001b[39;00m \u001b[38;5;21mget_query_vector\u001b[39m(\u001b[38;5;28mself\u001b[39m, query, expansion\u001b[38;5;241m=\u001b[39m\u001b[38;5;28;01mFalse\u001b[39;00m):\n\u001b[0;32m     25\u001b[0m     \u001b[38;5;28;01mif\u001b[39;00m expansion:\n\u001b[1;32m---> 26\u001b[0m         \u001b[38;5;28;01mreturn\u001b[39;00m \u001b[43membedding_expansion\u001b[49m\u001b[43m(\u001b[49m\u001b[38;5;28;43mself\u001b[39;49m\u001b[38;5;241;43m.\u001b[39;49m\u001b[43mw2v_model\u001b[49m\u001b[43m,\u001b[49m\u001b[43m \u001b[49m\u001b[43m[\u001b[49m\u001b[43mquery\u001b[49m\u001b[43m[\u001b[49m\u001b[38;5;241;43m1\u001b[39;49m\u001b[43m]\u001b[49m\u001b[43m[\u001b[49m\u001b[38;5;241;43m1\u001b[39;49m\u001b[43m]\u001b[49m\u001b[43m,\u001b[49m\u001b[43m \u001b[49m\u001b[38;5;241;43m*\u001b[39;49m\u001b[43mquery\u001b[49m\u001b[43m[\u001b[49m\u001b[38;5;241;43m1\u001b[39;49m\u001b[43m]\u001b[49m\u001b[43m[\u001b[49m\u001b[38;5;241;43m2\u001b[39;49m\u001b[43m]\u001b[49m\u001b[43m]\u001b[49m\u001b[43m)\u001b[49m\n\u001b[0;32m     27\u001b[0m     \u001b[38;5;28;01melse\u001b[39;00m:\n\u001b[0;32m     28\u001b[0m         \u001b[38;5;28;01mreturn\u001b[39;00m \u001b[38;5;28mself\u001b[39m\u001b[38;5;241m.\u001b[39mvectorize(query[\u001b[38;5;241m1\u001b[39m][\u001b[38;5;241m0\u001b[39m])\n",
      "File \u001b[1;32md:\\Query-Expansion\\notebooks\\..\\src\\expansion.py:29\u001b[0m, in \u001b[0;36membedding_expansion\u001b[1;34m(model, headings)\u001b[0m\n\u001b[0;32m     26\u001b[0m     tree_embeddings\u001b[38;5;241m.\u001b[39mappend(np\u001b[38;5;241m.\u001b[39mmean(heading_embeddings, axis\u001b[38;5;241m=\u001b[39m\u001b[38;5;241m0\u001b[39m))\n\u001b[0;32m     28\u001b[0m \u001b[38;5;66;03m# Expand the global tree\u001b[39;00m\n\u001b[1;32m---> 29\u001b[0m embedded_tree \u001b[38;5;241m=\u001b[39m \u001b[43mnp\u001b[49m\u001b[38;5;241;43m.\u001b[39;49m\u001b[43mmean\u001b[49m\u001b[43m(\u001b[49m\u001b[43mtree_embeddings\u001b[49m\u001b[43m,\u001b[49m\u001b[43m \u001b[49m\u001b[43maxis\u001b[49m\u001b[38;5;241;43m=\u001b[39;49m\u001b[38;5;241;43m0\u001b[39;49m\u001b[43m)\u001b[49m\n\u001b[0;32m     30\u001b[0m cosine_similarities \u001b[38;5;241m=\u001b[39m model\u001b[38;5;241m.\u001b[39mwv\u001b[38;5;241m.\u001b[39mcosine_similarities(embedded_tree, model\u001b[38;5;241m.\u001b[39mwv\u001b[38;5;241m.\u001b[39mvectors)\n\u001b[0;32m     31\u001b[0m most_similar \u001b[38;5;241m=\u001b[39m np\u001b[38;5;241m.\u001b[39margsort(cosine_similarities)[\u001b[38;5;241m-\u001b[39m\u001b[38;5;241m3\u001b[39m:]\n",
      "File \u001b[1;32m~\\AppData\\Local\\Packages\\PythonSoftwareFoundation.Python.3.11_qbz5n2kfra8p0\\LocalCache\\local-packages\\Python311\\site-packages\\numpy\\core\\fromnumeric.py:3504\u001b[0m, in \u001b[0;36mmean\u001b[1;34m(a, axis, dtype, out, keepdims, where)\u001b[0m\n\u001b[0;32m   3501\u001b[0m     \u001b[38;5;28;01melse\u001b[39;00m:\n\u001b[0;32m   3502\u001b[0m         \u001b[38;5;28;01mreturn\u001b[39;00m mean(axis\u001b[38;5;241m=\u001b[39maxis, dtype\u001b[38;5;241m=\u001b[39mdtype, out\u001b[38;5;241m=\u001b[39mout, \u001b[38;5;241m*\u001b[39m\u001b[38;5;241m*\u001b[39mkwargs)\n\u001b[1;32m-> 3504\u001b[0m \u001b[38;5;28;01mreturn\u001b[39;00m \u001b[43m_methods\u001b[49m\u001b[38;5;241;43m.\u001b[39;49m\u001b[43m_mean\u001b[49m\u001b[43m(\u001b[49m\u001b[43ma\u001b[49m\u001b[43m,\u001b[49m\u001b[43m \u001b[49m\u001b[43maxis\u001b[49m\u001b[38;5;241;43m=\u001b[39;49m\u001b[43maxis\u001b[49m\u001b[43m,\u001b[49m\u001b[43m \u001b[49m\u001b[43mdtype\u001b[49m\u001b[38;5;241;43m=\u001b[39;49m\u001b[43mdtype\u001b[49m\u001b[43m,\u001b[49m\n\u001b[0;32m   3505\u001b[0m \u001b[43m                      \u001b[49m\u001b[43mout\u001b[49m\u001b[38;5;241;43m=\u001b[39;49m\u001b[43mout\u001b[49m\u001b[43m,\u001b[49m\u001b[43m \u001b[49m\u001b[38;5;241;43m*\u001b[39;49m\u001b[38;5;241;43m*\u001b[39;49m\u001b[43mkwargs\u001b[49m\u001b[43m)\u001b[49m\n",
      "File \u001b[1;32m~\\AppData\\Local\\Packages\\PythonSoftwareFoundation.Python.3.11_qbz5n2kfra8p0\\LocalCache\\local-packages\\Python311\\site-packages\\numpy\\core\\_methods.py:102\u001b[0m, in \u001b[0;36m_mean\u001b[1;34m(a, axis, dtype, out, keepdims, where)\u001b[0m\n\u001b[0;32m    101\u001b[0m \u001b[38;5;28;01mdef\u001b[39;00m \u001b[38;5;21m_mean\u001b[39m(a, axis\u001b[38;5;241m=\u001b[39m\u001b[38;5;28;01mNone\u001b[39;00m, dtype\u001b[38;5;241m=\u001b[39m\u001b[38;5;28;01mNone\u001b[39;00m, out\u001b[38;5;241m=\u001b[39m\u001b[38;5;28;01mNone\u001b[39;00m, keepdims\u001b[38;5;241m=\u001b[39m\u001b[38;5;28;01mFalse\u001b[39;00m, \u001b[38;5;241m*\u001b[39m, where\u001b[38;5;241m=\u001b[39m\u001b[38;5;28;01mTrue\u001b[39;00m):\n\u001b[1;32m--> 102\u001b[0m     arr \u001b[38;5;241m=\u001b[39m asanyarray(a)\n\u001b[0;32m    104\u001b[0m     is_float16_result \u001b[38;5;241m=\u001b[39m \u001b[38;5;28;01mFalse\u001b[39;00m\n\u001b[0;32m    106\u001b[0m     rcount \u001b[38;5;241m=\u001b[39m _count_reduce_items(arr, axis, keepdims\u001b[38;5;241m=\u001b[39mkeepdims, where\u001b[38;5;241m=\u001b[39mwhere)\n",
      "\u001b[1;31mValueError\u001b[0m: setting an array element with a sequence. The requested array has an inhomogeneous shape after 1 dimensions. The detected shape was (3,) + inhomogeneous part."
     ]
    }
   ],
   "source": [
    "results_embedding_expanded = embedding_baseline.eval_model(expansion=True)"
   ]
  },
  {
   "cell_type": "code",
   "execution_count": null,
   "metadata": {},
   "outputs": [],
   "source": [
    "print(\"Embedding Baseline Expanded Results: \", results_embedding_expanded)"
   ]
  }
 ],
 "metadata": {
  "kernelspec": {
   "display_name": "Python 3",
   "language": "python",
   "name": "python3"
  },
  "language_info": {
   "codemirror_mode": {
    "name": "ipython",
    "version": 3
   },
   "file_extension": ".py",
   "mimetype": "text/x-python",
   "name": "python",
   "nbconvert_exporter": "python",
   "pygments_lexer": "ipython3",
   "version": "3.11.9"
  }
 },
 "nbformat": 4,
 "nbformat_minor": 2
}
