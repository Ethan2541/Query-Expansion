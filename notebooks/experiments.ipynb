{
 "cells": [
  {
   "cell_type": "markdown",
   "metadata": {},
   "source": [
    "# Models"
   ]
  },
  {
   "cell_type": "code",
   "execution_count": 1,
   "metadata": {},
   "outputs": [],
   "source": [
    "from gensim.models import Word2Vec\n",
    "from nltk import download, word_tokenize\n",
    "from nltk.corpus import stopwords\n",
    "from nltk.stem import WordNetLemmatizer\n",
    "from sklearn.feature_extraction.text import TfidfVectorizer\n",
    "\n",
    "import dill as pickle\n",
    "import gensim.downloader as api\n",
    "import joblib\n",
    "import numpy as np\n",
    "import re\n",
    "import sys"
   ]
  },
  {
   "cell_type": "code",
   "execution_count": 5,
   "metadata": {},
   "outputs": [],
   "source": [
    "sys.path.append('..')\n",
    "\n",
    "from src.baselines import RIH_Cosine, RIH_QL\n",
    "from src.expansion import query_expansion\n",
    "from src.metrics import MAP, NDCG, RPrec"
   ]
  },
  {
   "cell_type": "code",
   "execution_count": 3,
   "metadata": {},
   "outputs": [],
   "source": [
    "# Load a derived dataset from the \"TREC CAR 2017\" dataset\n",
    "dataset = {\n",
    "    \"queries\": pickle.load(open(\"../data/queries.pkl\", \"rb\")),\n",
    "    \"documents\": pickle.load(open(\"../data/documents.pkl\", \"rb\")),\n",
    "    \"relevances\": pickle.load(open(\"../data/relevances.pkl\", \"rb\"))\n",
    "}"
   ]
  },
  {
   "cell_type": "markdown",
   "metadata": {},
   "source": [
    "## TFIDF Vectorizer"
   ]
  },
  {
   "cell_type": "code",
   "execution_count": 6,
   "metadata": {},
   "outputs": [
    {
     "name": "stderr",
     "output_type": "stream",
     "text": [
      "[nltk_data] Downloading package punkt to\n",
      "[nltk_data]     C:\\Users\\Ethan\\AppData\\Roaming\\nltk_data...\n",
      "[nltk_data]   Package punkt is already up-to-date!\n",
      "[nltk_data] Downloading package stopwords to\n",
      "[nltk_data]     C:\\Users\\Ethan\\AppData\\Roaming\\nltk_data...\n",
      "[nltk_data]   Package stopwords is already up-to-date!\n",
      "[nltk_data] Downloading package wordnet to\n",
      "[nltk_data]     C:\\Users\\Ethan\\AppData\\Roaming\\nltk_data...\n",
      "[nltk_data]   Package wordnet is already up-to-date!\n"
     ]
    },
    {
     "data": {
      "text/plain": [
       "True"
      ]
     },
     "execution_count": 6,
     "metadata": {},
     "output_type": "execute_result"
    }
   ],
   "source": [
    "# Ressources Installation for NLTK\n",
    "download(\"punkt\")\n",
    "download(\"stopwords\")\n",
    "download(\"wordnet\")"
   ]
  },
  {
   "cell_type": "code",
   "execution_count": 12,
   "metadata": {},
   "outputs": [],
   "source": [
    "english_stopwords = stopwords.words(\"english\")\n",
    "\n",
    "def preprocess(text):\n",
    "    text = re.sub(r\"[^a-zA-Z]\", \" \", text.lower())\n",
    "    words = word_tokenize(text)\n",
    "    words_lemmed = [WordNetLemmatizer().lemmatize(w) for w in words if w not in english_stopwords]\n",
    "    return words_lemmed"
   ]
  },
  {
   "cell_type": "code",
   "execution_count": 12,
   "metadata": {},
   "outputs": [
    {
     "name": "stderr",
     "output_type": "stream",
     "text": [
      "C:\\Users\\Ethan\\AppData\\Local\\Packages\\PythonSoftwareFoundation.Python.3.11_qbz5n2kfra8p0\\LocalCache\\local-packages\\Python311\\site-packages\\sklearn\\feature_extraction\\text.py:525: UserWarning: The parameter 'token_pattern' will not be used since 'tokenizer' is not None'\n",
      "  warnings.warn(\n"
     ]
    }
   ],
   "source": [
    "# Create the TF-IDF Vectorizer\n",
    "vectorizer = TfidfVectorizer(tokenizer=preprocess, stop_words=english_stopwords)\n",
    "\n",
    "# Train the TFIDF-Vectorizer on the corpus\n",
    "def generate_docs_texts():\n",
    "    for text in dataset[\"documents\"].values():\n",
    "        yield text\n",
    "\n",
    "documents_vectors = vectorizer.fit_transform(generate_docs_texts())\n",
    "documents_vectors = documents_vectors.toarray()"
   ]
  },
  {
   "cell_type": "code",
   "execution_count": 13,
   "metadata": {},
   "outputs": [
    {
     "data": {
      "text/plain": [
       "['../models/documents_vectors.pkl']"
      ]
     },
     "execution_count": 13,
     "metadata": {},
     "output_type": "execute_result"
    }
   ],
   "source": [
    "# Save the vectorizer for future use\n",
    "joblib.dump(vectorizer, \"../models/vectorizer.pkl\")\n",
    "joblib.dump(documents_vectors, \"../models/documents_vectors.pkl\")"
   ]
  },
  {
   "cell_type": "markdown",
   "metadata": {},
   "source": [
    "## Skipgram"
   ]
  },
  {
   "cell_type": "code",
   "execution_count": 15,
   "metadata": {},
   "outputs": [],
   "source": [
    "pretrained_model = api.load(\"fasttext-wiki-news-subwords-300\")"
   ]
  },
  {
   "cell_type": "code",
   "execution_count": 17,
   "metadata": {},
   "outputs": [],
   "source": [
    "corpus = list(dataset[\"documents\"].values())\n",
    "\n",
    "model = Word2Vec(vector_size=300, window=10, sample=1e-3, min_count=0, sg=1)\n",
    "model.build_vocab(corpus)\n",
    "total_examples = model.corpus_count\n",
    "model.build_vocab([list(pretrained_model.key_to_index.keys())], update=True)\n",
    "\n",
    "model.train(corpus, total_examples=total_examples, epochs=2)\n",
    "model.save(\"../models/skipgram.model\")"
   ]
  },
  {
   "cell_type": "markdown",
   "metadata": {},
   "source": [
    "## Baselines"
   ]
  },
  {
   "cell_type": "code",
   "execution_count": 97,
   "metadata": {},
   "outputs": [
    {
     "name": "stdout",
     "output_type": "stream",
     "text": [
      "(array(['77f8425e7cc8e66fc3f48cc16cfd1b13519fc7bc',\n",
      "       'f22da1c14e22d1cd1a88b6ac14cb26a993a281c1',\n",
      "       '9044167fd5073fd17bf3ddbfd56a98a2058a35f2',\n",
      "       '86a0f8aa4a60091074f7d312983d367c48bafba1',\n",
      "       '0b62577001d4e4acec755801c29e68b7de25c72b'], dtype='<U40'), array([0.00654811, 0.0052162 , 0.00521528, 0.00422302, 0.00325326]))\n"
     ]
    }
   ],
   "source": [
    "rih_cosine = RIH_Cosine(np.array(list(dataset[\"documents\"].keys())), documents_vectors, vectorizer)\n",
    "\n",
    "for query in dataset[\"queries\"].values():\n",
    "    print(rih_cosine.get_top_k(query[1], k=5))\n",
    "    break"
   ]
  },
  {
   "cell_type": "code",
   "execution_count": 96,
   "metadata": {},
   "outputs": [
    {
     "name": "stdout",
     "output_type": "stream",
     "text": [
      "(array(['77f8425e7cc8e66fc3f48cc16cfd1b13519fc7bc',\n",
      "       '04aff0aa2eb9d52284455c8930af1aa8ff7f0e0a',\n",
      "       '86a0f8aa4a60091074f7d312983d367c48bafba1',\n",
      "       '20a0ba0f73d96877afcbb54ae6fb6eb6dcaa7646',\n",
      "       '83ee36eebe2245d12a43775389cb0c0660f76c03'], dtype='<U40'), array([-1.89176667, -3.01677618, -4.10782848, -4.34684473, -4.43275143]))\n"
     ]
    }
   ],
   "source": [
    "rih_ql = RIH_QL(vectorizer)\n",
    "\n",
    "for query in dataset[\"queries\"].values():\n",
    "    print(rih_ql.get_top_k(query[1], list(dataset[\"documents\"].items()), k=5))\n",
    "    break"
   ]
  },
  {
   "cell_type": "code",
   "execution_count": 4,
   "metadata": {},
   "outputs": [],
   "source": [
    "w2v_model = Word2Vec.load(\"../models/skipgram.model\")"
   ]
  },
  {
   "cell_type": "code",
   "execution_count": 13,
   "metadata": {},
   "outputs": [],
   "source": [
    "documents_vectors = joblib.load(open(\"../models/documents_vectors.pkl\", \"rb\"))\n",
    "vectorizer = joblib.load(open(\"../models/vectorizer.pkl\", \"rb\"))"
   ]
  },
  {
   "cell_type": "code",
   "execution_count": 42,
   "metadata": {},
   "outputs": [
    {
     "name": "stdout",
     "output_type": "stream",
     "text": [
      "['0fb555e014a1ccca30dd9514625d44f986db3e87']\n",
      "('Hog-dog rodeo Typical match', 'Hog-dog rodeo', ('Typical match',))\n",
      "(300,)\n"
     ]
    }
   ],
   "source": [
    "rih_cosine = RIH_Cosine(np.array(list(dataset[\"documents\"].keys())), documents_vectors, vectorizer)\n",
    "\n",
    "for query_id, query in dataset[\"queries\"].items():\n",
    "    q = vectorizer.transform([rih_cosine.get_query(query)]).toarray()[0]\n",
    "    relevant_documents = vectorizer.transform([dataset[\"documents\"][doc_id] for doc_id in top_k_documents if (query_id, doc_id) in dataset[\"relevances\"]]).toarray()\n",
    "    nonrelevant_documents = vectorizer.transform([dataset[\"documents\"][doc_id] for doc_id in top_k_documents if (query_id, doc_id) not in dataset[\"relevances\"]]).toarray()\n",
    "\n",
    "    print(embedding_expansion(w2v_model, query[0], [query[1], *query[2]]).shape)\n",
    "    break"
   ]
  }
 ],
 "metadata": {
  "kernelspec": {
   "display_name": "Python 3",
   "language": "python",
   "name": "python3"
  },
  "language_info": {
   "codemirror_mode": {
    "name": "ipython",
    "version": 3
   },
   "file_extension": ".py",
   "mimetype": "text/x-python",
   "name": "python",
   "nbconvert_exporter": "python",
   "pygments_lexer": "ipython3",
   "version": "3.11.9"
  }
 },
 "nbformat": 4,
 "nbformat_minor": 2
}
